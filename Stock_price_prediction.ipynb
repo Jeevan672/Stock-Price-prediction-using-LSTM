{
 "cells": [
  {
   "cell_type": "markdown",
   "metadata": {
    "id": "TIi63REAn6OV"
   },
   "source": [
    "\n",
    "\n",
    "***Recurrent Neural Network***\n",
    "\n",
    "\n"
   ]
  },
  {
   "cell_type": "markdown",
   "metadata": {
    "id": "AYt_EzNEoEYK"
   },
   "source": [
    "## Part 1 - Data Preprocessing"
   ]
  },
  {
   "cell_type": "markdown",
   "metadata": {
    "id": "YOJClo-qoHkz"
   },
   "source": [
    "Importing the libraries"
   ]
  },
  {
   "cell_type": "code",
   "execution_count": 84,
   "metadata": {
    "id": "ehjc9o5AnpQ4"
   },
   "outputs": [],
   "source": [
    "import pandas as pd\n",
    "import numpy as np\n",
    "import matplotlib.pyplot as plt\n",
    "import pandas as pd\n"
   ]
  },
  {
   "cell_type": "code",
   "execution_count": 85,
   "metadata": {
    "id": "G4nmZ95Rogpp"
   },
   "outputs": [
    {
     "data": {
      "text/html": [
       "<div>\n",
       "<style scoped>\n",
       "    .dataframe tbody tr th:only-of-type {\n",
       "        vertical-align: middle;\n",
       "    }\n",
       "\n",
       "    .dataframe tbody tr th {\n",
       "        vertical-align: top;\n",
       "    }\n",
       "\n",
       "    .dataframe thead th {\n",
       "        text-align: right;\n",
       "    }\n",
       "</style>\n",
       "<table border=\"1\" class=\"dataframe\">\n",
       "  <thead>\n",
       "    <tr style=\"text-align: right;\">\n",
       "      <th></th>\n",
       "      <th>Date</th>\n",
       "      <th>Open</th>\n",
       "      <th>High</th>\n",
       "      <th>Low</th>\n",
       "      <th>Close</th>\n",
       "      <th>Volume</th>\n",
       "    </tr>\n",
       "  </thead>\n",
       "  <tbody>\n",
       "    <tr>\n",
       "      <th>0</th>\n",
       "      <td>1/3/2012</td>\n",
       "      <td>325.25</td>\n",
       "      <td>332.83</td>\n",
       "      <td>324.97</td>\n",
       "      <td>663.59</td>\n",
       "      <td>7,380,500</td>\n",
       "    </tr>\n",
       "    <tr>\n",
       "      <th>1</th>\n",
       "      <td>1/4/2012</td>\n",
       "      <td>331.27</td>\n",
       "      <td>333.87</td>\n",
       "      <td>329.08</td>\n",
       "      <td>666.45</td>\n",
       "      <td>5,749,400</td>\n",
       "    </tr>\n",
       "    <tr>\n",
       "      <th>2</th>\n",
       "      <td>1/5/2012</td>\n",
       "      <td>329.83</td>\n",
       "      <td>330.75</td>\n",
       "      <td>326.89</td>\n",
       "      <td>657.21</td>\n",
       "      <td>6,590,300</td>\n",
       "    </tr>\n",
       "    <tr>\n",
       "      <th>3</th>\n",
       "      <td>1/6/2012</td>\n",
       "      <td>328.34</td>\n",
       "      <td>328.77</td>\n",
       "      <td>323.68</td>\n",
       "      <td>648.24</td>\n",
       "      <td>5,405,900</td>\n",
       "    </tr>\n",
       "    <tr>\n",
       "      <th>4</th>\n",
       "      <td>1/9/2012</td>\n",
       "      <td>322.04</td>\n",
       "      <td>322.29</td>\n",
       "      <td>309.46</td>\n",
       "      <td>620.76</td>\n",
       "      <td>11,688,800</td>\n",
       "    </tr>\n",
       "  </tbody>\n",
       "</table>\n",
       "</div>"
      ],
      "text/plain": [
       "       Date    Open    High     Low   Close      Volume\n",
       "0  1/3/2012  325.25  332.83  324.97  663.59   7,380,500\n",
       "1  1/4/2012  331.27  333.87  329.08  666.45   5,749,400\n",
       "2  1/5/2012  329.83  330.75  326.89  657.21   6,590,300\n",
       "3  1/6/2012  328.34  328.77  323.68  648.24   5,405,900\n",
       "4  1/9/2012  322.04  322.29  309.46  620.76  11,688,800"
      ]
     },
     "execution_count": 85,
     "metadata": {},
     "output_type": "execute_result"
    }
   ],
   "source": [
    "dataset_train=pd.read_csv('Google_Stock_Price_Train.csv')\n",
    "training_set=dataset_train.iloc[:, 1:2].values\n",
    "dataset_train.head()"
   ]
  },
  {
   "cell_type": "markdown",
   "metadata": {
    "id": "3pdRE2yXp5KC"
   },
   "source": [
    "Feature scaling"
   ]
  },
  {
   "cell_type": "code",
   "execution_count": 42,
   "metadata": {
    "id": "W-3ed9Clotiy"
   },
   "outputs": [],
   "source": [
    "from sklearn.preprocessing import MinMaxScaler\n",
    "sc=MinMaxScaler(feature_range=(0,1))\n",
    "training_set_scales=sc.fit_transform(training_set)\n",
    "\n"
   ]
  },
  {
   "cell_type": "markdown",
   "metadata": {
    "id": "HSzkgSrQrBXS"
   },
   "source": [
    "Creating a data structure with 60 timesteps and 1 output"
   ]
  },
  {
   "cell_type": "code",
   "execution_count": 43,
   "metadata": {
    "id": "pWkVi2bFquUg"
   },
   "outputs": [],
   "source": [
    "X_train=[]\n",
    "y_train=[]\n",
    "for i in range(120,1258):\n",
    "    X_train.append(training_set_scales[i-120:i,0])\n",
    "    y_train.append(training_set_scales[i,0])\n",
    "X_train,y_train=np.array(X_train),np.array(y_train)"
   ]
  },
  {
   "cell_type": "markdown",
   "metadata": {
    "id": "5LWNMp3J6Qed"
   },
   "source": [
    "Reshaping"
   ]
  },
  {
   "cell_type": "code",
   "execution_count": 44,
   "metadata": {
    "id": "ieTCm29t53_U"
   },
   "outputs": [],
   "source": [
    "X_train= np.reshape(X_train,(X_train.shape[0],X_train.shape[1],1))"
   ]
  },
  {
   "cell_type": "markdown",
   "metadata": {
    "id": "H-fbZ3It9RDb"
   },
   "source": [
    "#Part 2 - Building and Training the RNN"
   ]
  },
  {
   "cell_type": "markdown",
   "metadata": {
    "id": "feX9O4EA9Xr8"
   },
   "source": [
    "### Importing the Keras libraries and packages"
   ]
  },
  {
   "cell_type": "code",
   "execution_count": 71,
   "metadata": {
    "colab": {
     "base_uri": "https://localhost:8080/",
     "height": 400
    },
    "id": "C4GzRMUf87QD",
    "outputId": "0f55b594-8d00-428b-96e8-2b8421d12095"
   },
   "outputs": [],
   "source": [
    "from keras.models import Sequential\n",
    "from keras.layers import Dense\n",
    "from keras.layers import LSTM\n",
    "from keras.layers import Dropout"
   ]
  },
  {
   "cell_type": "markdown",
   "metadata": {
    "id": "HEJYKfXW938p"
   },
   "source": [
    "Initialising the RNN"
   ]
  },
  {
   "cell_type": "code",
   "execution_count": 72,
   "metadata": {},
   "outputs": [],
   "source": [
    "regressor=Sequential()"
   ]
  },
  {
   "cell_type": "markdown",
   "metadata": {},
   "source": [
    "Adding the first LSTM layer and some Dropout regularisation"
   ]
  },
  {
   "cell_type": "code",
   "execution_count": 73,
   "metadata": {},
   "outputs": [],
   "source": [
    "regressor.add(LSTM(units = 75, return_sequences = True, input_shape = (X_train.shape[1], 1)))\n",
    "regressor.add(Dropout(0.30))"
   ]
  },
  {
   "cell_type": "markdown",
   "metadata": {},
   "source": [
    "Adding the second LSTM layer and some Dropout regularisation"
   ]
  },
  {
   "cell_type": "code",
   "execution_count": 74,
   "metadata": {},
   "outputs": [],
   "source": [
    "regressor.add(LSTM(units = 75, return_sequences = True))\n",
    "regressor.add(Dropout(0.30))"
   ]
  },
  {
   "cell_type": "code",
   "execution_count": 75,
   "metadata": {},
   "outputs": [],
   "source": [
    "regressor.add(LSTM(units = 75, return_sequences = True))\n",
    "regressor.add(Dropout(0.30))"
   ]
  },
  {
   "cell_type": "markdown",
   "metadata": {},
   "source": [
    "Adding the third LSTM layer and some Dropout regularisation"
   ]
  },
  {
   "cell_type": "code",
   "execution_count": 76,
   "metadata": {},
   "outputs": [],
   "source": [
    "regressor.add(LSTM(units = 75, return_sequences = True))\n",
    "regressor.add(Dropout(0.30))"
   ]
  },
  {
   "cell_type": "markdown",
   "metadata": {},
   "source": [
    "Adding the fourth LSTM layer and some Dropout regularisation"
   ]
  },
  {
   "cell_type": "code",
   "execution_count": 77,
   "metadata": {},
   "outputs": [],
   "source": [
    "regressor.add(LSTM(units = 75, return_sequences = False))\n",
    "regressor.add(Dropout(0.30))"
   ]
  },
  {
   "cell_type": "markdown",
   "metadata": {},
   "source": [
    "Adding output layer"
   ]
  },
  {
   "cell_type": "code",
   "execution_count": 78,
   "metadata": {},
   "outputs": [],
   "source": [
    "regressor.add(Dense(units=1))"
   ]
  },
  {
   "cell_type": "markdown",
   "metadata": {},
   "source": [
    "compiling the RNN"
   ]
  },
  {
   "cell_type": "code",
   "execution_count": 79,
   "metadata": {},
   "outputs": [],
   "source": [
    "regressor.compile(optimizer='adam', loss='mean_squared_error')"
   ]
  },
  {
   "cell_type": "markdown",
   "metadata": {},
   "source": [
    "Fitting the RNN to the Training set "
   ]
  },
  {
   "cell_type": "code",
   "execution_count": 80,
   "metadata": {},
   "outputs": [
    {
     "name": "stdout",
     "output_type": "stream",
     "text": [
      "Epoch 1/100\n",
      "36/36 [==============================] - 13s 177ms/step - loss: 0.0503\n",
      "Epoch 2/100\n",
      "36/36 [==============================] - 6s 180ms/step - loss: 0.0079\n",
      "Epoch 3/100\n",
      "36/36 [==============================] - 7s 185ms/step - loss: 0.0066\n",
      "Epoch 4/100\n",
      "36/36 [==============================] - 6s 178ms/step - loss: 0.0066\n",
      "Epoch 5/100\n",
      "36/36 [==============================] - 6s 178ms/step - loss: 0.0061\n",
      "Epoch 6/100\n",
      "36/36 [==============================] - 6s 178ms/step - loss: 0.0057\n",
      "Epoch 7/100\n",
      "36/36 [==============================] - 7s 183ms/step - loss: 0.0060\n",
      "Epoch 8/100\n",
      "36/36 [==============================] - 7s 190ms/step - loss: 0.0054\n",
      "Epoch 9/100\n",
      "36/36 [==============================] - 7s 189ms/step - loss: 0.0045\n",
      "Epoch 10/100\n",
      "36/36 [==============================] - 7s 186ms/step - loss: 0.0052\n",
      "Epoch 11/100\n",
      "36/36 [==============================] - 7s 188ms/step - loss: 0.0048\n",
      "Epoch 12/100\n",
      "36/36 [==============================] - 7s 185ms/step - loss: 0.0051\n",
      "Epoch 13/100\n",
      "36/36 [==============================] - 7s 186ms/step - loss: 0.0050\n",
      "Epoch 14/100\n",
      "36/36 [==============================] - 7s 186ms/step - loss: 0.0049\n",
      "Epoch 15/100\n",
      "36/36 [==============================] - 7s 184ms/step - loss: 0.0054\n",
      "Epoch 16/100\n",
      "36/36 [==============================] - 7s 185ms/step - loss: 0.0045\n",
      "Epoch 17/100\n",
      "36/36 [==============================] - 7s 187ms/step - loss: 0.0042\n",
      "Epoch 18/100\n",
      "36/36 [==============================] - 7s 188ms/step - loss: 0.0052\n",
      "Epoch 19/100\n",
      "36/36 [==============================] - 7s 204ms/step - loss: 0.0041\n",
      "Epoch 20/100\n",
      "36/36 [==============================] - 7s 183ms/step - loss: 0.0039\n",
      "Epoch 21/100\n",
      "36/36 [==============================] - 7s 193ms/step - loss: 0.0043\n",
      "Epoch 22/100\n",
      "36/36 [==============================] - 7s 186ms/step - loss: 0.0035\n",
      "Epoch 23/100\n",
      "36/36 [==============================] - 7s 186ms/step - loss: 0.0039\n",
      "Epoch 24/100\n",
      "36/36 [==============================] - 7s 183ms/step - loss: 0.0038\n",
      "Epoch 25/100\n",
      "36/36 [==============================] - 7s 188ms/step - loss: 0.0035\n",
      "Epoch 26/100\n",
      "36/36 [==============================] - 7s 197ms/step - loss: 0.0036\n",
      "Epoch 27/100\n",
      "36/36 [==============================] - 7s 203ms/step - loss: 0.0037\n",
      "Epoch 28/100\n",
      "36/36 [==============================] - 8s 227ms/step - loss: 0.0040\n",
      "Epoch 29/100\n",
      "36/36 [==============================] - 7s 196ms/step - loss: 0.0039\n",
      "Epoch 30/100\n",
      "36/36 [==============================] - 7s 197ms/step - loss: 0.0034\n",
      "Epoch 31/100\n",
      "36/36 [==============================] - 7s 184ms/step - loss: 0.0035\n",
      "Epoch 32/100\n",
      "36/36 [==============================] - 7s 189ms/step - loss: 0.0036\n",
      "Epoch 33/100\n",
      "36/36 [==============================] - 7s 185ms/step - loss: 0.0035\n",
      "Epoch 34/100\n",
      "36/36 [==============================] - 7s 186ms/step - loss: 0.0034\n",
      "Epoch 35/100\n",
      "36/36 [==============================] - 7s 187ms/step - loss: 0.0033\n",
      "Epoch 36/100\n",
      "36/36 [==============================] - 7s 191ms/step - loss: 0.0033\n",
      "Epoch 37/100\n",
      "36/36 [==============================] - 7s 187ms/step - loss: 0.0031\n",
      "Epoch 38/100\n",
      "36/36 [==============================] - 8s 234ms/step - loss: 0.0029\n",
      "Epoch 39/100\n",
      "36/36 [==============================] - 8s 210ms/step - loss: 0.0032\n",
      "Epoch 40/100\n",
      "36/36 [==============================] - 8s 236ms/step - loss: 0.0033\n",
      "Epoch 41/100\n",
      "36/36 [==============================] - 7s 204ms/step - loss: 0.0030\n",
      "Epoch 42/100\n",
      "36/36 [==============================] - 9s 255ms/step - loss: 0.0033\n",
      "Epoch 43/100\n",
      "36/36 [==============================] - 10s 280ms/step - loss: 0.0030\n",
      "Epoch 44/100\n",
      "36/36 [==============================] - 8s 220ms/step - loss: 0.0035\n",
      "Epoch 45/100\n",
      "36/36 [==============================] - 8s 215ms/step - loss: 0.0030\n",
      "Epoch 46/100\n",
      "36/36 [==============================] - 8s 229ms/step - loss: 0.0027\n",
      "Epoch 47/100\n",
      "36/36 [==============================] - 8s 229ms/step - loss: 0.0028\n",
      "Epoch 48/100\n",
      "36/36 [==============================] - 10s 274ms/step - loss: 0.0030\n",
      "Epoch 49/100\n",
      "36/36 [==============================] - 10s 284ms/step - loss: 0.0028\n",
      "Epoch 50/100\n",
      "36/36 [==============================] - 9s 242ms/step - loss: 0.0027\n",
      "Epoch 51/100\n",
      "36/36 [==============================] - 9s 262ms/step - loss: 0.0031\n",
      "Epoch 52/100\n",
      "36/36 [==============================] - 9s 243ms/step - loss: 0.0027\n",
      "Epoch 53/100\n",
      "36/36 [==============================] - 10s 280ms/step - loss: 0.0027\n",
      "Epoch 54/100\n",
      "36/36 [==============================] - 12s 336ms/step - loss: 0.0028\n",
      "Epoch 55/100\n",
      "36/36 [==============================] - 9s 258ms/step - loss: 0.0026\n",
      "Epoch 56/100\n",
      "36/36 [==============================] - 8s 236ms/step - loss: 0.0027\n",
      "Epoch 57/100\n",
      "36/36 [==============================] - 8s 233ms/step - loss: 0.0024\n",
      "Epoch 58/100\n",
      "36/36 [==============================] - 9s 249ms/step - loss: 0.0026\n",
      "Epoch 59/100\n",
      "36/36 [==============================] - 9s 265ms/step - loss: 0.0026\n",
      "Epoch 60/100\n",
      "36/36 [==============================] - 10s 285ms/step - loss: 0.0029\n",
      "Epoch 61/100\n",
      "36/36 [==============================] - 10s 287ms/step - loss: 0.0024\n",
      "Epoch 62/100\n",
      "36/36 [==============================] - 14s 393ms/step - loss: 0.0026\n",
      "Epoch 63/100\n",
      "36/36 [==============================] - 7s 196ms/step - loss: 0.0024\n",
      "Epoch 64/100\n",
      "36/36 [==============================] - 9s 247ms/step - loss: 0.0023\n",
      "Epoch 65/100\n",
      "36/36 [==============================] - 8s 217ms/step - loss: 0.0024\n",
      "Epoch 66/100\n",
      "36/36 [==============================] - 11s 313ms/step - loss: 0.0021\n",
      "Epoch 67/100\n",
      "36/36 [==============================] - 8s 223ms/step - loss: 0.0024\n",
      "Epoch 68/100\n",
      "36/36 [==============================] - 8s 221ms/step - loss: 0.0024\n",
      "Epoch 69/100\n",
      "36/36 [==============================] - 7s 202ms/step - loss: 0.0021\n",
      "Epoch 70/100\n",
      "36/36 [==============================] - 7s 186ms/step - loss: 0.0022\n",
      "Epoch 71/100\n",
      "36/36 [==============================] - 7s 196ms/step - loss: 0.0021\n",
      "Epoch 72/100\n",
      "36/36 [==============================] - 7s 204ms/step - loss: 0.0023\n",
      "Epoch 73/100\n",
      "36/36 [==============================] - 8s 209ms/step - loss: 0.0023\n",
      "Epoch 74/100\n",
      "36/36 [==============================] - 8s 212ms/step - loss: 0.0024\n",
      "Epoch 75/100\n",
      "36/36 [==============================] - 7s 202ms/step - loss: 0.0021\n",
      "Epoch 76/100\n",
      "36/36 [==============================] - 7s 188ms/step - loss: 0.0022\n",
      "Epoch 77/100\n",
      "36/36 [==============================] - 7s 196ms/step - loss: 0.0024\n",
      "Epoch 78/100\n",
      "36/36 [==============================] - 6s 180ms/step - loss: 0.0022\n",
      "Epoch 79/100\n",
      "36/36 [==============================] - 6s 169ms/step - loss: 0.0021\n",
      "Epoch 80/100\n",
      "36/36 [==============================] - 7s 205ms/step - loss: 0.0019\n",
      "Epoch 81/100\n",
      "36/36 [==============================] - 9s 237ms/step - loss: 0.0020\n",
      "Epoch 82/100\n",
      "36/36 [==============================] - 8s 209ms/step - loss: 0.0020\n",
      "Epoch 83/100\n",
      "36/36 [==============================] - 7s 181ms/step - loss: 0.0020\n",
      "Epoch 84/100\n",
      "36/36 [==============================] - 6s 180ms/step - loss: 0.0022\n",
      "Epoch 85/100\n",
      "36/36 [==============================] - 6s 179ms/step - loss: 0.0020\n",
      "Epoch 86/100\n",
      "36/36 [==============================] - 6s 177ms/step - loss: 0.0019\n",
      "Epoch 87/100\n",
      "36/36 [==============================] - 7s 189ms/step - loss: 0.0020\n",
      "Epoch 88/100\n",
      "36/36 [==============================] - 7s 187ms/step - loss: 0.0018\n",
      "Epoch 89/100\n",
      "36/36 [==============================] - 7s 183ms/step - loss: 0.0020\n",
      "Epoch 90/100\n",
      "36/36 [==============================] - 6s 168ms/step - loss: 0.0019\n",
      "Epoch 91/100\n",
      "36/36 [==============================] - 6s 172ms/step - loss: 0.0018\n",
      "Epoch 92/100\n",
      "36/36 [==============================] - 6s 180ms/step - loss: 0.0018\n",
      "Epoch 93/100\n",
      "36/36 [==============================] - 7s 184ms/step - loss: 0.0018\n",
      "Epoch 94/100\n",
      "36/36 [==============================] - 7s 181ms/step - loss: 0.0018\n",
      "Epoch 95/100\n",
      "36/36 [==============================] - 7s 209ms/step - loss: 0.0018\n",
      "Epoch 96/100\n",
      "36/36 [==============================] - 6s 175ms/step - loss: 0.0018\n",
      "Epoch 97/100\n",
      "36/36 [==============================] - 7s 189ms/step - loss: 0.0017\n",
      "Epoch 98/100\n",
      "36/36 [==============================] - 7s 182ms/step - loss: 0.0016\n",
      "Epoch 99/100\n",
      "36/36 [==============================] - 6s 170ms/step - loss: 0.0018\n",
      "Epoch 100/100\n",
      "36/36 [==============================] - 6s 169ms/step - loss: 0.0017\n"
     ]
    },
    {
     "data": {
      "text/plain": [
       "<keras.src.callbacks.History at 0x1d4a1976ad0>"
      ]
     },
     "execution_count": 80,
     "metadata": {},
     "output_type": "execute_result"
    }
   ],
   "source": [
    "regressor.fit(X_train,y_train,epochs=100,batch_size=32)"
   ]
  },
  {
   "cell_type": "markdown",
   "metadata": {},
   "source": [
    "## part-3 Making the predictions and visualising the results"
   ]
  },
  {
   "cell_type": "markdown",
   "metadata": {},
   "source": [
    "Getting the real stock price price of 2017"
   ]
  },
  {
   "cell_type": "code",
   "execution_count": 86,
   "metadata": {},
   "outputs": [
    {
     "data": {
      "text/html": [
       "<div>\n",
       "<style scoped>\n",
       "    .dataframe tbody tr th:only-of-type {\n",
       "        vertical-align: middle;\n",
       "    }\n",
       "\n",
       "    .dataframe tbody tr th {\n",
       "        vertical-align: top;\n",
       "    }\n",
       "\n",
       "    .dataframe thead th {\n",
       "        text-align: right;\n",
       "    }\n",
       "</style>\n",
       "<table border=\"1\" class=\"dataframe\">\n",
       "  <thead>\n",
       "    <tr style=\"text-align: right;\">\n",
       "      <th></th>\n",
       "      <th>Date</th>\n",
       "      <th>Open</th>\n",
       "      <th>High</th>\n",
       "      <th>Low</th>\n",
       "      <th>Close</th>\n",
       "      <th>Volume</th>\n",
       "    </tr>\n",
       "  </thead>\n",
       "  <tbody>\n",
       "    <tr>\n",
       "      <th>0</th>\n",
       "      <td>1/3/2017</td>\n",
       "      <td>778.81</td>\n",
       "      <td>789.63</td>\n",
       "      <td>775.80</td>\n",
       "      <td>786.14</td>\n",
       "      <td>1,657,300</td>\n",
       "    </tr>\n",
       "    <tr>\n",
       "      <th>1</th>\n",
       "      <td>1/4/2017</td>\n",
       "      <td>788.36</td>\n",
       "      <td>791.34</td>\n",
       "      <td>783.16</td>\n",
       "      <td>786.90</td>\n",
       "      <td>1,073,000</td>\n",
       "    </tr>\n",
       "    <tr>\n",
       "      <th>2</th>\n",
       "      <td>1/5/2017</td>\n",
       "      <td>786.08</td>\n",
       "      <td>794.48</td>\n",
       "      <td>785.02</td>\n",
       "      <td>794.02</td>\n",
       "      <td>1,335,200</td>\n",
       "    </tr>\n",
       "    <tr>\n",
       "      <th>3</th>\n",
       "      <td>1/6/2017</td>\n",
       "      <td>795.26</td>\n",
       "      <td>807.90</td>\n",
       "      <td>792.20</td>\n",
       "      <td>806.15</td>\n",
       "      <td>1,640,200</td>\n",
       "    </tr>\n",
       "    <tr>\n",
       "      <th>4</th>\n",
       "      <td>1/9/2017</td>\n",
       "      <td>806.40</td>\n",
       "      <td>809.97</td>\n",
       "      <td>802.83</td>\n",
       "      <td>806.65</td>\n",
       "      <td>1,272,400</td>\n",
       "    </tr>\n",
       "  </tbody>\n",
       "</table>\n",
       "</div>"
      ],
      "text/plain": [
       "       Date    Open    High     Low   Close     Volume\n",
       "0  1/3/2017  778.81  789.63  775.80  786.14  1,657,300\n",
       "1  1/4/2017  788.36  791.34  783.16  786.90  1,073,000\n",
       "2  1/5/2017  786.08  794.48  785.02  794.02  1,335,200\n",
       "3  1/6/2017  795.26  807.90  792.20  806.15  1,640,200\n",
       "4  1/9/2017  806.40  809.97  802.83  806.65  1,272,400"
      ]
     },
     "execution_count": 86,
     "metadata": {},
     "output_type": "execute_result"
    }
   ],
   "source": [
    "dataset_test=pd.read_csv('Google_Stock_Price_Test.csv')\n",
    "real_stock_price=dataset_test.iloc[:, 1:2].values\n",
    "dataset_test.head()"
   ]
  },
  {
   "cell_type": "markdown",
   "metadata": {},
   "source": [
    "Getting the predicted stock price of 2017"
   ]
  },
  {
   "cell_type": "code",
   "execution_count": 82,
   "metadata": {},
   "outputs": [
    {
     "name": "stdout",
     "output_type": "stream",
     "text": [
      "1/1 [==============================] - 2s 2s/step\n"
     ]
    }
   ],
   "source": [
    "dataset_total=pd.concat((dataset_train['Open'], dataset_test['Open']), axis= 0)\n",
    "inputs= dataset_total[len(dataset_total) - len(dataset_test) -120:].values\n",
    "inputs= inputs.reshape(-1,1)\n",
    "inputs = sc.transform(inputs)\n",
    "X_test =[]\n",
    "for i in range(120,140):\n",
    "    X_test.append(inputs[i-120:i,0])\n",
    "X_test=np.array(X_test)\n",
    "X_test= np.reshape(X_test,(X_test.shape[0],X_test.shape[1],1))\n",
    "predicted_stock_price= regressor.predict(X_test)\n",
    "predicted_stock_price= sc.inverse_transform(predicted_stock_price)"
   ]
  },
  {
   "cell_type": "markdown",
   "metadata": {},
   "source": [
    "Visualising the results"
   ]
  },
  {
   "cell_type": "code",
   "execution_count": 83,
   "metadata": {},
   "outputs": [
    {
     "data": {
      "image/png": "[encoded data removed]",
      "text/plain": [
       "<Figure size 640x480 with 1 Axes>"
      ]
     },
     "metadata": {},
     "output_type": "display_data"
    }
   ],
   "source": [
    "plt.plot(real_stock_price, color= 'red', label='Real google stock price')\n",
    "plt.plot(predicted_stock_price, color= 'blue', label='predicted_google_stock_price')\n",
    "plt.title('Google stock price prediction')\n",
    "plt.xlabel('Time')\n",
    "plt.ylabel('Google stock price')\n",
    "plt.legend()\n",
    "plt.show()"
   ]
  },
  {
   "cell_type": "code",
   "execution_count": null,
   "metadata": {},
   "outputs": [],
   "source": []
  }
 ],
 "metadata": {
  "colab": {
   "provenance": []
  },
  "kernelspec": {
   "display_name": "Python 3 (ipykernel)",
   "language": "python",
   "name": "python3"
  },
  "language_info": {
   "codemirror_mode": {
    "name": "ipython",
    "version": 3
   },
   "file_extension": ".py",
   "mimetype": "text/x-python",
   "name": "python",
   "nbconvert_exporter": "python",
   "pygments_lexer": "ipython3",
   "version": "3.11.3"
  }
 },
 "nbformat": 4,
 "nbformat_minor": 1
}
